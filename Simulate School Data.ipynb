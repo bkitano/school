{
 "cells": [
  {
   "cell_type": "code",
   "execution_count": 53,
   "metadata": {},
   "outputs": [],
   "source": [
    "import pandas as pd\n",
    "import numpy as np\n",
    "from collections import defaultdict"
   ]
  },
  {
   "cell_type": "code",
   "execution_count": 17,
   "metadata": {},
   "outputs": [],
   "source": [
    "import random\n",
    "import string\n",
    "\n",
    "def get_random_string(prefix, length):\n",
    "    letters = string.ascii_lowercase\n",
    "    result_str = ''.join(random.choice(letters) for i in range(length))\n",
    "    return prefix + \"-\" + result_str"
   ]
  },
  {
   "cell_type": "markdown",
   "metadata": {},
   "source": [
    "# Simulating school data"
   ]
  },
  {
   "cell_type": "markdown",
   "metadata": {},
   "source": [
    "The idea is that we want to be able to identify statistical anomalies in high school to make interventions and improve student outcomes. Possible anomalies are \n",
    "- individual student performance changes\n",
    "- teacher's performance deviating from average\n",
    "- curriculum being taught poorly"
   ]
  },
  {
   "cell_type": "markdown",
   "metadata": {},
   "source": [
    "## Available data\n",
    "The available data looks like\n",
    "- individual student\n",
    " - list of classes\n",
    " - list of test scores in those classes\n",
    "- individual teacher\n",
    " - list of classes\n",
    "- class\n",
    " - list of students in that class\n",
    " - teacher who teaches the class\n",
    " - time of the class\n",
    " - scores of each student in that class\n",
    "- score\n",
    " - class (uid)\n",
    " - score (int)\n",
    " - student (uid)"
   ]
  },
  {
   "cell_type": "code",
   "execution_count": 111,
   "metadata": {},
   "outputs": [],
   "source": [
    "# create fake student\n",
    "class Student:\n",
    "    def __init__(self, name = ''):\n",
    "        self.name = name\n",
    "        self.id = get_random_string('s', 6)\n",
    "        self.grades = defaultdict(list)\n",
    "        self.courses = []\n",
    "    \n",
    "    def show(self):\n",
    "        print(\"--- {} ---\".format(self.id))\n",
    "        print(\"grades: {}\".format(self.grades))\n",
    "        print(\"courses: {}\".format([ c.id for c in self.courses ]))\n",
    "        print(\"\\n\")\n",
    "        \n",
    "    def addCourse(self, course):\n",
    "        self.courses += [course]\n",
    "        \n",
    "    def addGrade(self, courseId, assignmentId, assignmentType, grade, time):\n",
    "        self.grades[courseId] += [(assignmentId, assignmentType, grade, time)]"
   ]
  },
  {
   "cell_type": "code",
   "execution_count": 112,
   "metadata": {},
   "outputs": [],
   "source": [
    "# creating a fake course\n",
    "class Course:\n",
    "    def __init__(self, name = '', slot = 0 ):\n",
    "        self.name = name\n",
    "        self.slot = slot\n",
    "        self.id = get_random_string('c', 5)\n",
    "        self.assignments = []\n",
    "        self.teacher = None\n",
    "        self.students = []\n",
    "        \n",
    "    def setStudents(self, students):\n",
    "        self.students = students\n",
    "        for student in students:\n",
    "            student.addCourse(self)\n",
    "            \n",
    "    def setTeacher(self, teacher):\n",
    "        self.teacher = teacher\n",
    "        teacher.addCourse(self)\n",
    "        \n",
    "    def createAssignment(self, assignmentType, time):\n",
    "        assignmentId = get_random_string('a', 5)\n",
    "        self.assignments += [(assignmentId, assignmentType, time)]\n",
    "        for student in self.students:\n",
    "            grade = random.randint(0, 100)\n",
    "            student.addGrade(self.id, assignmentId, assignmentType, grade, time)\n",
    "    \n",
    "    def show(self):\n",
    "        print(\"--- {} ---\".format(self.id))\n",
    "        print(\"teacher: {}\".format(self.teacher.id))\n",
    "        print(\"students: {}\".format([s.id for s in self.students]))\n",
    "        print(\"assignments: {}\".format([a.id for a in self.assignments]))\n",
    "        print(\"\\n\")"
   ]
  },
  {
   "cell_type": "code",
   "execution_count": 113,
   "metadata": {},
   "outputs": [],
   "source": [
    "class Teacher:\n",
    "    def __init__(self, name = ''):\n",
    "        self.name = name\n",
    "        self.id = get_random_string('t', 5)\n",
    "        self.courses = []\n",
    "        \n",
    "    def addCourse(self, course):\n",
    "        self.courses += [course]\n",
    "        \n",
    "    def show(self):\n",
    "        print(\"--- {} ---\".format(self.id))\n",
    "        print(\"courses: {}\".format(self.courses))\n",
    "        print(\"total number of students: {}\".format(sum([len(course.students) for course in self.courses])))\n",
    "        print(\"\\n\")"
   ]
  },
  {
   "cell_type": "code",
   "execution_count": 114,
   "metadata": {},
   "outputs": [],
   "source": [
    "students = [Student() for i in range(10)]"
   ]
  },
  {
   "cell_type": "code",
   "execution_count": 115,
   "metadata": {},
   "outputs": [],
   "source": [
    "history = Course('history')\n",
    "history.setStudents(students)"
   ]
  },
  {
   "cell_type": "code",
   "execution_count": 116,
   "metadata": {},
   "outputs": [
    {
     "name": "stdout",
     "output_type": "stream",
     "text": [
      "--- s-kjbhgn ---\n",
      "grades: defaultdict(<class 'list'>, {})\n",
      "courses: ['c-lcduj']\n",
      "\n",
      "\n"
     ]
    }
   ],
   "source": [
    "students[0].show()"
   ]
  },
  {
   "cell_type": "code",
   "execution_count": 117,
   "metadata": {},
   "outputs": [],
   "source": [
    "history.createAssignment('test', 100)"
   ]
  },
  {
   "cell_type": "code",
   "execution_count": 118,
   "metadata": {},
   "outputs": [
    {
     "name": "stdout",
     "output_type": "stream",
     "text": [
      "--- s-kjbhgn ---\n",
      "grades: defaultdict(<class 'list'>, {'c-lcduj': [('a-cakex', 'test', 93, 100)]})\n",
      "courses: ['c-lcduj']\n",
      "\n",
      "\n"
     ]
    }
   ],
   "source": [
    "students[0].show()"
   ]
  },
  {
   "cell_type": "markdown",
   "metadata": {},
   "source": [
    "## Scaling out"
   ]
  },
  {
   "cell_type": "code",
   "execution_count": 119,
   "metadata": {},
   "outputs": [],
   "source": [
    "# instantiate all the courses and students at \n",
    "# the beginning of the school year (t = 0)\n",
    "\n",
    "students = [Student() for i in range(100)] # school has 100 students\n",
    "teachers = [Teacher() for i in range(10)] # school has 10 teachers\n",
    "\n",
    "courses = []\n",
    "for teacher in teachers:\n",
    "    # get number of courses taught by a teacher\n",
    "    numberOfCourses = random.randint(1, 5)\n",
    "    \n",
    "    for i in range(numberOfCourses):\n",
    "        # get a random number of students in a course\n",
    "        numberOfStudentsInCourse = random.randint(10, 25)\n",
    "        # sample students\n",
    "        studentsInCourse = random.sample(students, numberOfStudentsInCourse)\n",
    "\n",
    "        # create the course\n",
    "        c = Course()\n",
    "        c.setTeacher(teacher)\n",
    "        c.setStudents(studentsInCourse)\n",
    "        \n",
    "        courses += [c]"
   ]
  },
  {
   "cell_type": "code",
   "execution_count": 120,
   "metadata": {},
   "outputs": [
    {
     "name": "stdout",
     "output_type": "stream",
     "text": [
      "--- s-yiusbo ---\n",
      "grades: defaultdict(<class 'list'>, {})\n",
      "courses: ['c-mimuq', 'c-ebxih', 'c-cjgsk', 'c-hlczn']\n",
      "\n",
      "\n",
      "--- t-kabgy ---\n",
      "courses: [<__main__.Course object at 0x11c1f0710>, <__main__.Course object at 0x11c1f0780>, <__main__.Course object at 0x11c1f07f0>, <__main__.Course object at 0x11c1f0860>]\n",
      "total number of students: 61\n",
      "\n",
      "\n",
      "--- c-liztz ---\n",
      "teacher: t-kabgy\n",
      "students: ['s-fdgxmx', 's-ngocse', 's-xnboam', 's-yksswq', 's-vrvblp', 's-ujmfds', 's-iuvgje', 's-kndyxe', 's-dmvmtv', 's-akwltt', 's-qivxwy', 's-uoaolh', 's-yyngnw', 's-uqpbjc']\n",
      "assignments: []\n",
      "\n",
      "\n"
     ]
    }
   ],
   "source": [
    "students[0].show()\n",
    "teachers[0].show()\n",
    "courses[0].show()"
   ]
  },
  {
   "cell_type": "code",
   "execution_count": null,
   "metadata": {},
   "outputs": [],
   "source": []
  }
 ],
 "metadata": {
  "kernelspec": {
   "display_name": "Python 3",
   "language": "python",
   "name": "python3"
  },
  "language_info": {
   "codemirror_mode": {
    "name": "ipython",
    "version": 3
   },
   "file_extension": ".py",
   "mimetype": "text/x-python",
   "name": "python",
   "nbconvert_exporter": "python",
   "pygments_lexer": "ipython3",
   "version": "3.7.3"
  }
 },
 "nbformat": 4,
 "nbformat_minor": 4
}

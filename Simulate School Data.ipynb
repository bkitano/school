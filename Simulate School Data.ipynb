{
 "cells": [
  {
   "cell_type": "code",
   "execution_count": 1,
   "metadata": {},
   "outputs": [],
   "source": [
    "import pandas as pd\n",
    "import numpy as np\n",
    "from collections import defaultdict"
   ]
  },
  {
   "cell_type": "code",
   "execution_count": 2,
   "metadata": {},
   "outputs": [],
   "source": [
    "import random\n",
    "import string\n",
    "\n",
    "def get_random_string(prefix, length):\n",
    "    letters = string.ascii_lowercase\n",
    "    result_str = ''.join(random.choice(letters) for i in range(length))\n",
    "    return prefix + \"-\" + result_str"
   ]
  },
  {
   "cell_type": "markdown",
   "metadata": {},
   "source": [
    "# Simulating school data"
   ]
  },
  {
   "cell_type": "markdown",
   "metadata": {},
   "source": [
    "The idea is that we want to be able to identify statistical anomalies in high school to make interventions and improve student outcomes. Possible anomalies are \n",
    "- individual student performance changes\n",
    "- teacher's performance deviating from average\n",
    "- curriculum being taught poorly"
   ]
  },
  {
   "cell_type": "markdown",
   "metadata": {},
   "source": [
    "## Available data\n",
    "The available data looks like\n",
    "- individual student\n",
    " - list of classes\n",
    " - list of test scores in those classes\n",
    "- individual teacher\n",
    " - list of classes\n",
    "- class\n",
    " - list of students in that class\n",
    " - teacher who teaches the class\n",
    " - time of the class\n",
    " - scores of each student in that class\n",
    "- score\n",
    " - class (uid)\n",
    " - score (int)\n",
    " - student (uid)"
   ]
  },
  {
   "cell_type": "code",
   "execution_count": 3,
   "metadata": {},
   "outputs": [],
   "source": [
    "ASSIGNMENT_TYPES = ['homework', 'test']"
   ]
  },
  {
   "cell_type": "code",
   "execution_count": 4,
   "metadata": {},
   "outputs": [],
   "source": [
    "# create fake student\n",
    "class Student:\n",
    "    def __init__(self, name = ''):\n",
    "        self.name = name\n",
    "        self.id = get_random_string('s', 6)\n",
    "        self.assignments = defaultdict(list)\n",
    "        self.courses = {}\n",
    "        self.grades = {}\n",
    "    \n",
    "    def show(self):\n",
    "        print(\"--- {} ---\".format(self.id))\n",
    "        print(\"assignments: {}\".format([self.assignments]))\n",
    "        print(\"courses: {}\".format([ courseId for (courseId, c) in self.courses.items() ]))\n",
    "        print(\"\\n\")\n",
    "        \n",
    "    def addCourse(self, course):\n",
    "        self.courses[course.id] = course\n",
    "        \n",
    "    def addAssignment(self, courseId, assignment, grade):\n",
    "        self.assignments[courseId] += [(assignment, grade)]\n",
    "        \n",
    "    def getCumulativeGrades(self):\n",
    "        for (courseId, course) in self.courses.items():\n",
    "            rubric = course.rubric\n",
    "            assignments = self.assignments[courseId]\n",
    "            \n",
    "            # generalize\n",
    "            totalGrade = 0\n",
    "            \n",
    "            for assignmentType in ASSIGNMENT_TYPES:\n",
    "                assigmentList = list(filter(lambda a: a[0].assignmentType == assignmentType, assignments))\n",
    "                assignmentWeight = np.mean([a[1] for a in assigmentList]) * rubric[assignmentType]\n",
    "                totalGrade += assignmentWeight\n",
    "                \n",
    "            self.grades[courseId] = totalGrade\n",
    "            \n",
    "        return self.grades"
   ]
  },
  {
   "cell_type": "code",
   "execution_count": 5,
   "metadata": {},
   "outputs": [],
   "source": [
    "class Assignment:\n",
    "    def __init__(self, assignmentType, time):\n",
    "        self.id = get_random_string('a', 5)\n",
    "        self.assignmentType = assignmentType\n",
    "        self.time = time"
   ]
  },
  {
   "cell_type": "code",
   "execution_count": 6,
   "metadata": {},
   "outputs": [],
   "source": [
    "# creating a fake course\n",
    "class Course:\n",
    "    def __init__(self, name = '', slot = 0 ):\n",
    "        self.name = name\n",
    "        self.slot = slot\n",
    "        self.id = get_random_string('c', 5)\n",
    "        self.assignments = []\n",
    "        self.teacher = None\n",
    "        self.students = []\n",
    "        self.rubric = dict(zip(ASSIGNMENT_TYPES, np.random.dirichlet((1, 1), 1).tolist()[0]))\n",
    "        \n",
    "    def setStudents(self, students):\n",
    "        self.students = students\n",
    "        for student in students:\n",
    "            student.addCourse(self)\n",
    "            \n",
    "    def setTeacher(self, teacher):\n",
    "        self.teacher = teacher\n",
    "        teacher.addCourse(self)\n",
    "        \n",
    "    def createAssignment(self, assignmentType, time):\n",
    "        assignment = Assignment(assignmentType, time)\n",
    "        self.assignments += [assignment]\n",
    "        for student in self.students:\n",
    "            grade = random.random()\n",
    "            student.addAssignment(self.id, assignment, grade)\n",
    "    \n",
    "    def show(self):\n",
    "        print(\"--- {} ---\".format(self.id))\n",
    "        print(\"teacher: {}\".format(self.teacher.id))\n",
    "        print(\"students: {}\".format([s.id for s in self.students]))\n",
    "        print(\"assignments: {}\".format([a[0] for a in self.assignments]))\n",
    "        print(\"rubric: {}\".format(self.rubric))\n",
    "        print(\"\\n\")"
   ]
  },
  {
   "cell_type": "code",
   "execution_count": 7,
   "metadata": {},
   "outputs": [],
   "source": [
    "class Teacher:\n",
    "    def __init__(self, name = ''):\n",
    "        self.name = name\n",
    "        self.id = get_random_string('t', 5)\n",
    "        self.courses = []\n",
    "        \n",
    "    def addCourse(self, course):\n",
    "        self.courses += [course]\n",
    "        \n",
    "    def show(self):\n",
    "        print(\"--- {} ---\".format(self.id))\n",
    "        print(\"courses: {}\".format(self.courses))\n",
    "        print(\"total number of students: {}\".format(sum([len(course.students) for course in self.courses])))\n",
    "        print(\"\\n\")"
   ]
  },
  {
   "cell_type": "code",
   "execution_count": 8,
   "metadata": {},
   "outputs": [],
   "source": [
    "students = [Student() for i in range(10)]"
   ]
  },
  {
   "cell_type": "code",
   "execution_count": 9,
   "metadata": {},
   "outputs": [],
   "source": [
    "history = Course('history')\n",
    "history.setStudents(students)"
   ]
  },
  {
   "cell_type": "code",
   "execution_count": 10,
   "metadata": {},
   "outputs": [
    {
     "name": "stdout",
     "output_type": "stream",
     "text": [
      "--- s-jdglgz ---\n",
      "assignments: [defaultdict(<class 'list'>, {})]\n",
      "courses: ['c-ooont']\n",
      "\n",
      "\n"
     ]
    }
   ],
   "source": [
    "students[0].show()"
   ]
  },
  {
   "cell_type": "code",
   "execution_count": 11,
   "metadata": {},
   "outputs": [],
   "source": [
    "history.createAssignment('test', 100)"
   ]
  },
  {
   "cell_type": "code",
   "execution_count": 12,
   "metadata": {},
   "outputs": [
    {
     "name": "stdout",
     "output_type": "stream",
     "text": [
      "--- s-jdglgz ---\n",
      "assignments: [defaultdict(<class 'list'>, {'c-ooont': [(<__main__.Assignment object at 0x1242d1240>, 0.8457544866431838)]})]\n",
      "courses: ['c-ooont']\n",
      "\n",
      "\n"
     ]
    }
   ],
   "source": [
    "students[0].show()"
   ]
  },
  {
   "cell_type": "markdown",
   "metadata": {},
   "source": [
    "## Scaling out"
   ]
  },
  {
   "cell_type": "code",
   "execution_count": 13,
   "metadata": {},
   "outputs": [],
   "source": [
    "# instantiate all the courses and students at \n",
    "# the beginning of the school year (t = 0)\n",
    "\n",
    "students = [Student() for i in range(100)] # school has 100 students\n",
    "teachers = [Teacher() for i in range(10)] # school has 10 teachers\n",
    "\n",
    "courses = {}\n",
    "for teacher in teachers:\n",
    "    # get number of courses taught by a teacher\n",
    "    numberOfCourses = random.randint(1, 5)\n",
    "    \n",
    "    for i in range(numberOfCourses):\n",
    "        # get a random number of students in a course\n",
    "        numberOfStudentsInCourse = random.randint(10, 25)\n",
    "        # sample students\n",
    "        studentsInCourse = random.sample(students, numberOfStudentsInCourse)\n",
    "\n",
    "        # create the course\n",
    "        c = Course()\n",
    "        c.setTeacher(teacher)\n",
    "        c.setStudents(studentsInCourse)\n",
    "        \n",
    "        courses[c.id] = c"
   ]
  },
  {
   "cell_type": "code",
   "execution_count": 14,
   "metadata": {},
   "outputs": [
    {
     "name": "stdout",
     "output_type": "stream",
     "text": [
      "--- s-tdgowx ---\n",
      "assignments: [defaultdict(<class 'list'>, {})]\n",
      "courses: ['c-swcew', 'c-abicz', 'c-fqdgc', 'c-wuzer', 'c-qnrnd', 'c-pkjop', 'c-fvsnx']\n",
      "\n",
      "\n",
      "--- t-gpowi ---\n",
      "courses: [<__main__.Course object at 0x1181e06a0>, <__main__.Course object at 0x124303ac8>, <__main__.Course object at 0x124303e80>, <__main__.Course object at 0x124303ef0>]\n",
      "total number of students: 67\n",
      "\n",
      "\n",
      "--- c-swcew ---\n",
      "teacher: t-gpowi\n",
      "students: ['s-omhtld', 's-oenmgh', 's-gjcsyg', 's-lvtwvo', 's-sacijk', 's-jsngky', 's-usdjic', 's-ywsdul', 's-hzqlhk', 's-cnqrco', 's-wjavlc', 's-cqylvd', 's-syikmr', 's-yxzpqy', 's-mcbxoc', 's-tdgowx', 's-dnbbyo', 's-lhbtyy', 's-njabwh', 's-hotxzu', 's-qgyhvz']\n",
      "assignments: []\n",
      "rubric: {'homework': 0.24969950900119636, 'test': 0.7503004909988037}\n",
      "\n",
      "\n"
     ]
    }
   ],
   "source": [
    "students[0].show()\n",
    "teachers[0].show()\n",
    "courses[list(courses.keys())[0]].show()"
   ]
  },
  {
   "cell_type": "code",
   "execution_count": 15,
   "metadata": {},
   "outputs": [],
   "source": [
    "for t in range(100):\n",
    "    for (courseId, course) in courses.items():\n",
    "        if random.randint(0, 1): # randomly determine whether to assign something\n",
    "            assignmentType = random.sample(ASSIGNMENT_TYPES, 1).pop() # determine if it's a test or homework\n",
    "            course.createAssignment(assignmentType, t)"
   ]
  },
  {
   "cell_type": "code",
   "execution_count": 16,
   "metadata": {},
   "outputs": [
    {
     "data": {
      "text/plain": [
       "{'c-swcew': 0.5288150218078249,\n",
       " 'c-abicz': 0.46505356477848125,\n",
       " 'c-fqdgc': 0.46715625549964457,\n",
       " 'c-wuzer': 0.49960536061481714,\n",
       " 'c-qnrnd': 0.5046756516836763,\n",
       " 'c-pkjop': 0.5358740623004308,\n",
       " 'c-fvsnx': 0.47819355339570946}"
      ]
     },
     "execution_count": 16,
     "metadata": {},
     "output_type": "execute_result"
    }
   ],
   "source": [
    "students[0].getCumulativeGrades()"
   ]
  },
  {
   "cell_type": "code",
   "execution_count": null,
   "metadata": {},
   "outputs": [],
   "source": []
  }
 ],
 "metadata": {
  "kernelspec": {
   "display_name": "Python 3",
   "language": "python",
   "name": "python3"
  },
  "language_info": {
   "codemirror_mode": {
    "name": "ipython",
    "version": 3
   },
   "file_extension": ".py",
   "mimetype": "text/x-python",
   "name": "python",
   "nbconvert_exporter": "python",
   "pygments_lexer": "ipython3",
   "version": "3.7.3"
  }
 },
 "nbformat": 4,
 "nbformat_minor": 4
}
